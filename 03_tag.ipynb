{
 "cells": [
  {
   "cell_type": "code",
   "execution_count": 43,
   "metadata": {},
   "outputs": [],
   "source": [
    "from __future__ import print_function, unicode_literals\n",
    "import pandas as pd\n",
    "import numpy as np\n",
    "from random import sample\n",
    "import io, csv\n",
    "import re\n",
    "import random\n",
    "import json"
   ]
  },
  {
   "cell_type": "code",
   "execution_count": 34,
   "metadata": {},
   "outputs": [],
   "source": [
    "#sentences=pd.read_csv(\"input/generated_sentences.csv\",sep='\\t')\n",
    "sentences=open(\"input/generated_sentences.csv\", \"r\").readlines()\n",
    "\n",
    "out_sentences=[]\n",
    "for sentence in sentences:\n",
    "    out_entities = []\n",
    "    #now the symbol - has to be deleted as it gives issues\n",
    "    sentence=sentence.replace(\"-\",\"\")\n",
    "    sentence=sentence.replace(\"\\n\",\"\")\n",
    "\n",
    "    match_span = re.search(r'\\bGEMEINDE\\b|\\bGEMEINDEN\\b|\\bGEMEINDEEBENE\\b|\\bBEZIRK\\b|\\bBEZIRKSEBENE\\b|\\bBEZIRKE\\b|\\bKANTON\\b|\\bKANTONSEBENE\\b|\\bREGION\\b', sentence,flags=re.IGNORECASE)\n",
    "\n",
    "    if match_span is not None:\n",
    "        match_span=match_span.span()\n",
    "        out_entities.append((match_span[0], match_span[1], \"GRAN\"))\n",
    "\n",
    "\n",
    "    out_sentences.append((sentence, {\"entities\": out_entities}))"
   ]
  },
  {
   "cell_type": "code",
   "execution_count": 44,
   "metadata": {
    "scrolled": true
   },
   "outputs": [
    {
     "name": "stdout",
     "output_type": "stream",
     "text": [
      "[('Wie viel Eigenkapital  hat  in Bauma  ?', {'entities': []}), ('Welches ist das Eigenkapital   in Marthalen ?', {'entities': []}), ('Was ist der Anteil an Bruttoverschuldungsanteil   in Kleinandelfingen ?', {'entities': []}), ('Wie viel Steuerbares Vermögen natürliche Pers.  hat  Birmensdorf  ?', {'entities': []}), ('Welches ist das Steuerbares Vermögen natürliche Pers.   in Rorbas ?', {'entities': []})]\n"
     ]
    }
   ],
   "source": [
    "print(out_sentences[:5])\n",
    "#pd.DataFrame(out_sentences).to_csv(\"input/tagged_sentences.csv\",index=False,header=False)\n",
    "with open(\"input/tagged_sentences.json\",\"w\") as outfile:\n",
    "    json.dump(out_sentences, outfile)"
   ]
  },
  {
   "cell_type": "code",
   "execution_count": 36,
   "metadata": {
    "scrolled": true
   },
   "outputs": [
    {
     "name": "stdout",
     "output_type": "stream",
     "text": [
      "('Welches ist das Eigenkapital   in Marthalen ?', {'entities': []})\n",
      "t\n",
      " \n"
     ]
    }
   ],
   "source": [
    "print(out_sentences[1])\n",
    "print(out_sentences[1][0][10])\n",
    "print(out_sentences[1][0][12-1])\n"
   ]
  },
  {
   "cell_type": "code",
   "execution_count": null,
   "metadata": {},
   "outputs": [],
   "source": []
  }
 ],
 "metadata": {
  "kernelspec": {
   "display_name": ".statbot",
   "language": "python",
   "name": ".statbot"
  },
  "language_info": {
   "codemirror_mode": {
    "name": "ipython",
    "version": 3
   },
   "file_extension": ".py",
   "mimetype": "text/x-python",
   "name": "python",
   "nbconvert_exporter": "python",
   "pygments_lexer": "ipython3",
   "version": "3.8.5"
  }
 },
 "nbformat": 4,
 "nbformat_minor": 4
}
