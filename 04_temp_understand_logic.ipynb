{
 "cells": [
  {
   "cell_type": "raw",
   "metadata": {},
   "source": [
    "granularity NER \n",
    "datasets NER\n",
    "time POS?\n",
    "filter-vars NER\n",
    "\n",
    "\n",
    "\n",
    "und POS"
   ]
  }
 ],
 "metadata": {
  "kernelspec": {
   "display_name": ".statbot",
   "language": "python",
   "name": ".statbot"
  },
  "language_info": {
   "codemirror_mode": {
    "name": "ipython",
    "version": 3
   },
   "file_extension": ".py",
   "mimetype": "text/x-python",
   "name": "python",
   "nbconvert_exporter": "python",
   "pygments_lexer": "ipython3",
   "version": "3.8.5"
  }
 },
 "nbformat": 4,
 "nbformat_minor": 4
}
