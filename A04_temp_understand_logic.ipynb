{
 "cells": [
  {
   "cell_type": "markdown",
   "metadata": {
    "id": "CkN-dHDye2i7"
   },
   "source": [
    "# 04 Temp understand logic"
   ]
  },
  {
   "cell_type": "markdown",
   "metadata": {},
   "source": [
    "#### Connect to GD"
   ]
  },
  {
   "cell_type": "code",
   "execution_count": null,
   "metadata": {
    "colab": {
     "base_uri": "https://localhost:8080/"
    },
    "executionInfo": {
     "elapsed": 88593,
     "status": "ok",
     "timestamp": 1616002272687,
     "user": {
      "displayName": "Manuela Paganini",
      "photoUrl": "",
      "userId": "16245217794239939786"
     },
     "user_tz": -60
    },
    "id": "H7duBmlBe4r4",
    "outputId": "16c2d049-395f-4518-8b4f-867322be152e"
   },
   "outputs": [],
   "source": [
    "# set up connection to your google drive\n",
    "# please click on the link generated and enter the authorisation code\n",
    "\n",
    "from google.colab import drive\n",
    "drive.mount('/content/drive')"
   ]
  },
  {
   "cell_type": "code",
   "execution_count": null,
   "metadata": {
    "colab": {
     "base_uri": "https://localhost:8080/"
    },
    "executionInfo": {
     "elapsed": 454,
     "status": "ok",
     "timestamp": 1615991536105,
     "user": {
      "displayName": "Manuela Paganini",
      "photoUrl": "",
      "userId": "16245217794239939786"
     },
     "user_tz": -60
    },
    "id": "3cAfM1XCe4eR",
    "outputId": "18daa33f-5ef5-4c10-9065-f40cb3e873f1"
   },
   "outputs": [],
   "source": [
    "cd /content/drive/MyDrive/Colab/statbot"
   ]
  },
  {
   "cell_type": "code",
   "execution_count": null,
   "metadata": {
    "id": "dEOhmCgme4VO"
   },
   "outputs": [],
   "source": [
    "! pip install rank-bm25"
   ]
  },
  {
   "cell_type": "code",
   "execution_count": null,
   "metadata": {
    "id": "kJ78kb3mmh-2"
   },
   "outputs": [],
   "source": [
    " # update spacy \n",
    "! pip install -U spacy\n",
    "! python -m spacy info"
   ]
  },
  {
   "cell_type": "markdown",
   "metadata": {
    "id": "vP1meQ6ZmhwO"
   },
   "source": [
    "#### Skript"
   ]
  },
  {
   "cell_type": "code",
   "execution_count": null,
   "metadata": {
    "id": "29jZKQ_pencv"
   },
   "outputs": [],
   "source": [
    "import pandas as pd"
   ]
  },
  {
   "cell_type": "code",
   "execution_count": null,
   "metadata": {
    "id": "6bSRjzyOency"
   },
   "outputs": [],
   "source": [
    "df=pd.read_csv(\"data/datasets_overview.csv\")"
   ]
  },
  {
   "cell_type": "code",
   "execution_count": null,
   "metadata": {
    "id": "Q_QSDn1Penc1",
    "outputId": "4b937dff-124f-495c-ad72-1bbd04f233ae"
   },
   "outputs": [],
   "source": [
    "import spacy\n",
    "from rank_bm25 import BM25Okapi\n",
    "from tqdm import tqdm\n",
    "nlp = spacy.load(\"de_core_news_lg\")\n",
    "text_list = df[\"dataset_title\"].str.lower().values\n",
    "text_list=np.unique(text_list)\n",
    "tok_text=[] # for our tokenised corpus\n",
    "#Tokenising using SpaCy:\n",
    "for doc in tqdm(nlp.pipe(text_list, disable=[\"tagger\", \"parser\",\"ner\"])):\n",
    "    tok = [t.text for t in doc if t.is_alpha]\n",
    "    tok_text.append(tok)"
   ]
  },
  {
   "cell_type": "code",
   "execution_count": null,
   "metadata": {
    "id": "TbtpZHOGendL",
    "outputId": "6b4bd0f2-f15d-409c-bdee-286b7a655b1c"
   },
   "outputs": [],
   "source": [
    "text_list"
   ]
  },
  {
   "cell_type": "code",
   "execution_count": null,
   "metadata": {
    "id": "YuQPpjYxendN"
   },
   "outputs": [],
   "source": [
    "bm25 = BM25Okapi(tok_text)"
   ]
  },
  {
   "cell_type": "code",
   "execution_count": null,
   "metadata": {
    "id": "iE5JldHJendP",
    "outputId": "082ef3b6-2634-491e-be82-cb0454565035"
   },
   "outputs": [],
   "source": [
    "query = \"Eigenkapital\"\n",
    "tokenized_query = query.lower().split(\" \")\n",
    "import time\n",
    "t0 = time.time()\n",
    "results = bm25.get_top_n(tokenized_query, text_list, n=5)\n",
    "t1 = time.time()\n",
    "print(f'Searched in {round(t1-t0,3) } seconds \\n')\n",
    "\n",
    "for i in results:\n",
    "    print(i)"
   ]
  },
  {
   "cell_type": "code",
   "execution_count": null,
   "metadata": {
    "id": "3P_UWkfBendQ"
   },
   "outputs": [],
   "source": []
  }
 ],
 "metadata": {
  "colab": {
   "collapsed_sections": [],
   "name": "A04_temp_understand_logic.ipynb",
   "provenance": []
  },
  "kernelspec": {
   "display_name": "Python 3",
   "language": "python",
   "name": "python3"
  },
  "language_info": {
   "codemirror_mode": {
    "name": "ipython",
    "version": 3
   },
   "file_extension": ".py",
   "mimetype": "text/x-python",
   "name": "python",
   "nbconvert_exporter": "python",
   "pygments_lexer": "ipython3",
   "version": "3.7.3"
  }
 },
 "nbformat": 4,
 "nbformat_minor": 1
}
