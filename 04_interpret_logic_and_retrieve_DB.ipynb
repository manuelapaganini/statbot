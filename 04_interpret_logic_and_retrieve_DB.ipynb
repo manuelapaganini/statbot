{
 "cells": [
  {
   "cell_type": "raw",
   "metadata": {},
   "source": [
    "granularity NER \n",
    "datasets NER\n",
    "time POS?\n",
    "filter-vars NER\n",
    "\n",
    "\n",
    "\n",
    "und POS"
   ]
  },
  {
   "cell_type": "code",
   "execution_count": 4,
   "metadata": {},
   "outputs": [],
   "source": [
    "import pandas as pd\n",
    "import spacy\n",
    "from rank_bm25 import BM25Okapi\n",
    "nlp = spacy.load(\"de_core_news_lg\")\n",
    "nlp.from_disk(\"./models/v1\")"
   ]
  },
  {
   "cell_type": "code",
   "execution_count": 75,
   "metadata": {},
   "outputs": [],
   "source": [
    "df=pd.read_csv(\"data/datasets_overview.csv\")"
   ]
  },
  {
   "cell_type": "code",
   "execution_count": 97,
   "metadata": {},
   "outputs": [],
   "source": [
    "text_list = df[\"dataset_title\"].str.lower().values\n",
    "text_list=np.unique(text_list)\n",
    "tok_text=[] # for our tokenised corpus\n",
    "#Tokenising using SpaCy:\n",
    "for doc in nlp.pipe(text_list, disable=[\"tagger\", \"parser\",\"ner\"]):\n",
    "    tok = [t.text for t in doc if t.is_alpha]\n",
    "    tok_text.append(tok)\n",
    "bm25 = BM25Okapi(tok_text)"
   ]
  },
  {
   "cell_type": "code",
   "execution_count": 98,
   "metadata": {},
   "outputs": [
    {
     "name": "stdout",
     "output_type": "stream",
     "text": [
      "Searched in 0.001 seconds \n",
      "\n",
      "eigenkapital [fr./einw.]\n",
      "eigenkapital steuerpfl. jur. pers. [mio.fr.]\n",
      "ø eigenkapital steuerpfl. jur. pers. [1000 fr.]\n",
      "übersicht über alle lernenden im kanton zürich\n",
      "covid_19 contact tracing kanton zürich\n"
     ]
    }
   ],
   "source": [
    "query = \"Eigenkapital\"\n",
    "tokenized_query = query.lower().split(\" \")\n",
    "import time\n",
    "t0 = time.time()\n",
    "results = bm25.get_top_n(tokenized_query, text_list, n=5)\n",
    "t1 = time.time()\n",
    "print(f'Searched in {round(t1-t0,3) } seconds \\n')\n",
    "\n",
    "for i in results:\n",
    "    print(i)"
   ]
  },
  {
   "cell_type": "code",
   "execution_count": null,
   "metadata": {},
   "outputs": [],
   "source": []
  }
 ],
 "metadata": {
  "kernelspec": {
   "display_name": ".statbot",
   "language": "python",
   "name": ".statbot"
  },
  "language_info": {
   "codemirror_mode": {
    "name": "ipython",
    "version": 3
   },
   "file_extension": ".py",
   "mimetype": "text/x-python",
   "name": "python",
   "nbconvert_exporter": "python",
   "pygments_lexer": "ipython3",
   "version": "3.8.5"
  }
 },
 "nbformat": 4,
 "nbformat_minor": 4
}
